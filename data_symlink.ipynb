{
 "cells": [
  {
   "cell_type": "code",
   "execution_count": 1,
   "metadata": {},
   "outputs": [],
   "source": [
    "from vqa_data import *\n",
    "import os"
   ]
  },
  {
   "cell_type": "code",
   "execution_count": 2,
   "metadata": {},
   "outputs": [],
   "source": [
    "instances2017 = [\n",
    "    '/home/palm/data/coco/annotations/annotations/instances_train2017.json',\n",
    "    '/home/palm/data/coco/annotations/annotations/instances_val2017.json',\n",
    "]\n",
    "qa_anns2014 = [\n",
    "    '/mnt/c/Users/Admin/Downloads/work/vqa/annotations/v2_mscoco_train2014_annotations.json',\n",
    "    '/mnt/c/Users/Admin/Downloads/work/vqa/annotations/v2_mscoco_val2014_annotations.json',\n",
    "]\n",
    "qa_questions2014 = [\n",
    "    '/mnt/c/Users/Admin/Downloads/work/vqa/annotations/v2_OpenEnded_mscoco_train2014_questions.json',\n",
    "    '/mnt/c/Users/Admin/Downloads/work/vqa/annotations/v2_OpenEnded_mscoco_val2014_questions.json',\n",
    "]\n",
    "image_src = '/home/palm/data/coco/images'\n",
    "dst_dir = '/home/palm/data/vqav2'\n"
   ]
  },
  {
   "cell_type": "code",
   "execution_count": 5,
   "metadata": {},
   "outputs": [],
   "source": [
    "os.makedirs(os.path.join(dst_dir, 'train2014'), exist_ok=True)\n",
    "os.makedirs(os.path.join(dst_dir, 'val2014'), exist_ok=True)\n",
    "os.makedirs(os.path.join(dst_dir, 'vqa'), exist_ok=True)"
   ]
  },
  {
   "cell_type": "code",
   "execution_count": 3,
   "metadata": {},
   "outputs": [
    {
     "name": "stdout",
     "output_type": "stream",
     "text": [
      "4437570\n",
      "2143540\n"
     ]
    }
   ],
   "source": [
    "datasets = VQAv2Datasets(\n",
    "instances2017,\n",
    "qa_anns2014,\n",
    "qa_questions2014,\n",
    "image_src,\n",
    "\n",
    ")\n",
    "\n",
    "train_set = datasets.train2014()\n",
    "print(len(train_set), flush=True)\n",
    "valid_set = datasets.val2014()\n",
    "print(len(valid_set), flush=True)\n"
   ]
  },
  {
   "cell_type": "code",
   "execution_count": 8,
   "metadata": {},
   "outputs": [],
   "source": [
    "for ann in qa_anns2014:\n",
    "    name = os.path.basename(ann)\n",
    "    os.system(\n",
    "        f'ln -s {ann} {os.path.join(dst_dir, \"vqa\", name)}'\n",
    "    )"
   ]
  },
  {
   "cell_type": "code",
   "execution_count": 9,
   "metadata": {},
   "outputs": [],
   "source": [
    "for ann in qa_questions2014:\n",
    "    name = os.path.basename(ann)\n",
    "    os.system(\n",
    "        f'ln -s {ann} {os.path.join(dst_dir, \"vqa\", name)}'\n",
    "    )"
   ]
  },
  {
   "cell_type": "code",
   "execution_count": 4,
   "metadata": {},
   "outputs": [],
   "source": [
    "images = []\n",
    "for image, _, __ in valid_set:\n",
    "    if image in images:\n",
    "        continue\n",
    "    images.append(image)\n",
    "    name = os.path.basename(image)\n",
    "    os.system(\n",
    "        f'ln -s {image} {os.path.join(dst_dir, \"val2014\", name)}'\n",
    "    )"
   ]
  },
  {
   "cell_type": "code",
   "execution_count": 5,
   "metadata": {},
   "outputs": [],
   "source": [
    "images = []\n",
    "for image, _, __ in train_set:\n",
    "    if image in images:\n",
    "        continue\n",
    "    images.append(image)\n",
    "    name = os.path.basename(image)\n",
    "    os.system(\n",
    "        f'ln -s {image} {os.path.join(dst_dir, \"train2014\", name)}'\n",
    "    )"
   ]
  },
  {
   "cell_type": "code",
   "execution_count": 6,
   "metadata": {},
   "outputs": [
    {
     "ename": "ImportError",
     "evalue": "cannot import name 'VQAv2Dataset' from 'datasets' (/home/palm/miniconda3/envs/caption/lib/python3.8/site-packages/datasets/__init__.py)",
     "output_type": "error",
     "traceback": [
      "\u001b[0;31m---------------------------------------------------------------------------\u001b[0m",
      "\u001b[0;31mImportError\u001b[0m                               Traceback (most recent call last)",
      "Cell \u001b[0;32mIn[6], line 1\u001b[0m\n\u001b[0;32m----> 1\u001b[0m \u001b[39mfrom\u001b[39;00m \u001b[39mdatasets\u001b[39;00m \u001b[39mimport\u001b[39;00m VQAv2Dataset\n\u001b[1;32m      2\u001b[0m \u001b[39mfrom\u001b[39;00m \u001b[39mtransformers\u001b[39;00m \u001b[39mimport\u001b[39;00m XLMRobertaTokenizer\n\u001b[1;32m      4\u001b[0m tokenizer \u001b[39m=\u001b[39m XLMRobertaTokenizer(\u001b[39m\"\u001b[39m\u001b[39m/mnt/c/Users/Admin/Downloads/work/vqa/cp/beits/beit3.spm\u001b[39m\u001b[39m\"\u001b[39m)\n",
      "\u001b[0;31mImportError\u001b[0m: cannot import name 'VQAv2Dataset' from 'datasets' (/home/palm/miniconda3/envs/caption/lib/python3.8/site-packages/datasets/__init__.py)"
     ]
    }
   ],
   "source": [
    "from datasets import VQAv2Dataset\n",
    "from transformers import XLMRobertaTokenizer\n",
    "\n",
    "tokenizer = XLMRobertaTokenizer(\"/mnt/c/Users/Admin/Downloads/work/vqa/cp/beits/beit3.spm\")\n",
    "\n",
    "VQAv2Dataset.make_dataset_index(\n",
    "    data_path=\"/home/palm/data/vqav2\",\n",
    "    tokenizer=tokenizer,\n",
    "    annotation_data_path=\"/home/palm/data/vqav2/vqa\",\n",
    ")\n"
   ]
  }
 ],
 "metadata": {
  "kernelspec": {
   "display_name": "caption",
   "language": "python",
   "name": "python3"
  },
  "language_info": {
   "codemirror_mode": {
    "name": "ipython",
    "version": 3
   },
   "file_extension": ".py",
   "mimetype": "text/x-python",
   "name": "python",
   "nbconvert_exporter": "python",
   "pygments_lexer": "ipython3",
   "version": "3.8.16"
  },
  "orig_nbformat": 4,
  "vscode": {
   "interpreter": {
    "hash": "d0557c582b3fc8a6d1af0a808c55663a1814553745bd196f1788104f2c26fa91"
   }
  }
 },
 "nbformat": 4,
 "nbformat_minor": 2
}
